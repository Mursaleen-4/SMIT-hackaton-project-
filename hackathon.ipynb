{
 "cells": [
  {
   "cell_type": "code",
   "execution_count": 1,
   "id": "9d02fd7f-1835-4cbf-8ebb-c28c0f0688db",
   "metadata": {},
   "outputs": [],
   "source": [
    "import random\n",
    "user_data={}\n",
    "deposit_history=[]\n",
    "withdrawal_history=[]\n",
    "class bank_account:\n",
    "            def create_account():\n",
    "                name=input(\"Enter your name\")\n",
    "                contact_no=int(input(\"Enter your contact details\"))\n",
    "                password=input(\"Enter a strong password\")\n",
    "                confirm_pass=input(\"Enter the same password again to recheck\")\n",
    "                money=0\n",
    "                if password==confirm_pass:\n",
    "                    user_id=random.randint(10000,50000)\n",
    "                    user_data[user_id]={\n",
    "                        \"Name\":name,\n",
    "                    \"contact_no\":contact_no,\n",
    "                    \"password\":password,\n",
    "                        \"money\":money,\n",
    "                        \"deposit\":deposit_history,\n",
    "                        \"withdrawal\":withdrawal_history\n",
    "                    }\n",
    "                    print(f\"your account is being created.your bank id is {user_id} and your current balance = {money}\")\n",
    "                    with open('userdata.txt', 'a') as f:\n",
    "                        for uid, details in user_data.items():\n",
    "                            f.write(f\"User ID: {user_id}\\n\")\n",
    "                            for key, value in details.items():\n",
    "                                f.write(f\"{key}: {value}\\n\")\n",
    "                            f.write(\"\\n\")\n",
    "                else:\n",
    "                   print(\"ACCOUNT NOT CREATED DUE TO INSUFFICENT PASSWORD\")"
   ]
  },
  {
   "cell_type": "code",
   "execution_count": 2,
   "id": "9aeff1ee-440f-418b-be71-3debee9603f3",
   "metadata": {},
   "outputs": [],
   "source": [
    "from datetime import datetime\n",
    "current_time = datetime.now().strftime(\"%H:%M:%S\")\n",
    "class deposit_money:\n",
    "    def deposit_money():\n",
    "        try:\n",
    "            user_id=int(input(\"Enter your given id no please \"))\n",
    "            if user_id in user_data:\n",
    "                  deposit=int(input(\"Enter the money you want to deposit\"))\n",
    "                  if deposit>0:\n",
    "                      deposit_history.append(f\"A deposit has been made of {deposit} on {current_time}\")\n",
    "                      user_data[user_id]['money']+=deposit\n",
    "                      print(f\"{deposit} has been deposited to your account\")\n",
    "                      print(f\"Your new balance is {user_data[user_id]['money']}\")\n",
    "                  else:\n",
    "                      print(\"The given amount cannot be in negative sign\")                         \n",
    "            else: \n",
    "               print(\"Id doesnot match\")\n",
    "        except Exception as e:\n",
    "            print(f\"The Error is {e}\")\n"
   ]
  },
  {
   "cell_type": "code",
   "execution_count": 3,
   "id": "4a4c178e-5d7b-48b7-9beb-96a627aa11f3",
   "metadata": {},
   "outputs": [],
   "source": [
    "class withdrawaling:\n",
    "    def withdrawal_money():\n",
    "        try:\n",
    "            user_id=int(input(\"Enter your given id no please \"))\n",
    "            if user_id in user_data:\n",
    "                  print(f\"Welcome {user_data[user_id]['Name']}\")\n",
    "                  withdrawal=int(input(\"Enter the money you want to withdrawal\"))\n",
    "                  if withdrawal>0:\n",
    "                      if withdrawal<user_data[user_id]['money']:\n",
    "                          withdrawal_history.append(f\"A withdrawal has been made of {withdrawal} on {current_time}\")\n",
    "                          user_data[user_id]['money']-=withdrawal\n",
    "                          print(f\"{withdrawal} has been withdrawal to your account\")\n",
    "                          print(f\"Your new balance is {user_data[user_id]['money']}\")\n",
    "                      else:\n",
    "                          print(\"Withdrawal cannot be bigger than the balance available in the account\")\n",
    "                  else:\n",
    "                      print(\"The given amount cannot be in negative sign\")                         \n",
    "            else: \n",
    "               print(\"Id doesnot match\")\n",
    "        except Exception as e:\n",
    "            print(f\"The Error is {e}\")\n"
   ]
  },
  {
   "cell_type": "code",
   "execution_count": 4,
   "id": "f61a0e71-0eab-40c5-ab99-4fac3d63b399",
   "metadata": {},
   "outputs": [],
   "source": [
    "class checking_balance:\n",
    "    def check_balance():\n",
    "        try:\n",
    "            user_id=int(input(\"Enter your given id no please \"))\n",
    "            if user_id in user_data:\n",
    "                print(f\"The Balance in your account is {user_data[user_id]['money']}\")\n",
    "            else:\n",
    "                print(\"Wrong id entered\")\n",
    "        except Exception as e:\n",
    "            print(f\"The Error is {e}\")\n"
   ]
  },
  {
   "cell_type": "code",
   "execution_count": 5,
   "id": "b26f5404-7f13-4a6f-a584-cc5a74a5744a",
   "metadata": {},
   "outputs": [],
   "source": [
    "class watching_transaction:\n",
    "    def transaction_history():\n",
    "        try:\n",
    "            user_id=int(input(\"Enter your given id no please \"))\n",
    "            if user_id in user_data:\n",
    "                print(user_data[user_id]['deposit'])\n",
    "                print(user_data[user_id]['withdrawal'])\n",
    "            else:\n",
    "                print(\"Wrong id entered\")\n",
    "        except Exception as e:\n",
    "            print(f\"The Error is {e}\")\n"
   ]
  },
  {
   "cell_type": "code",
   "execution_count": 6,
   "id": "ebd7ae21-ff24-4212-a2c3-305fb28b98ac",
   "metadata": {},
   "outputs": [],
   "source": [
    "class deposit_diffaccount:\n",
    "    def elsewhere_deposit():\n",
    "          try:\n",
    "            user_id=int(input(\"Enter your given id no please \"))\n",
    "            usertogive=int(input(\"Provide the id of the user you want to deposit money \"))\n",
    "            if user_id in user_data and usertogive in user_data:\n",
    "                  deposit=int(input(\"Enter the money you want to deposit\"))\n",
    "                  if deposit>0:\n",
    "                      deposit_history.append(f\"A deposit has been made of {deposit} on {current_time}\")\n",
    "                      user_data[usertogive]['money']+=deposit\n",
    "                      print(f\"{deposit} has been deposited to your account\")\n",
    "                  else:\n",
    "                      print(\"The given amount cannot be in negative sign\")                         \n",
    "            else: \n",
    "               print(\"Id doesnot match\")\n",
    "          except Exception as e:\n",
    "                print(f\"The Error is {e}\")\n",
    "    \n",
    "    "
   ]
  },
  {
   "cell_type": "code",
   "execution_count": 7,
   "id": "b55296df-02d7-4c2a-8cb2-e5992fe215e6",
   "metadata": {},
   "outputs": [],
   "source": [
    "class bank_reception:\n",
    "    def main():\n",
    "        try:\n",
    "            print(\"\"\"\n",
    "    1. Create an account for a user with a name and initial balance.\n",
    "    2. Deposit money into the user’s account.\n",
    "    3. Withdraw money from the user’s account.\n",
    "    4. Check balance to view the current amount in the account.\n",
    "    5. Print a transaction statement showing all deposits and withdrawals.\n",
    "    6. Deposit Amount to any other account.\n",
    "    Press \"q\" to leave the bank.\n",
    "            \"\"\")\n",
    "            \n",
    "            while True:\n",
    "                selection = input(\"Enter any number from 1-6, or 'q' to quit: \")\n",
    "                \n",
    "                if selection.lower() == \"q\":\n",
    "                    print(\"Thank you for visiting the bank. Goodbye!\")\n",
    "                    break\n",
    "                elif selection.isdigit() and 1 <= int(selection) <= 6:\n",
    "                    selection = int(selection)\n",
    "                    if selection == 1:\n",
    "                        bank_account.create_account()\n",
    "                    elif selection == 2:\n",
    "                        deposit_money.deposit_money()\n",
    "                    elif selection == 3:\n",
    "                        withdrawaling.withdrawal_money()\n",
    "                    elif selection == 4:\n",
    "                        checking_balance.check_balance()\n",
    "                    elif selection == 5:\n",
    "                        watching_transaction.transaction_history()\n",
    "                    elif selection == 6:\n",
    "                        deposit_diffaccount.elsewhere_deposit()\n",
    "                else:\n",
    "                    print(\"Invalid input. Please enter a number from 1-5 or 'q' to quit.\")\n",
    "        except Exception as e:\n",
    "            print(f\"An error occurred: {e}\")\n"
   ]
  },
  {
   "cell_type": "code",
   "execution_count": 9,
   "id": "a4d01bbb-416d-4a5b-b188-cb09053d270c",
   "metadata": {},
   "outputs": [],
   "source": [
    "class Admin_table:\n",
    "    def allthedata():\n",
    "        print(user_data)"
   ]
  },
  {
   "cell_type": "code",
   "execution_count": 10,
   "id": "66bd01e7-6d7d-4c3f-a79d-06d1c117cb9f",
   "metadata": {},
   "outputs": [
    {
     "name": "stdout",
     "output_type": "stream",
     "text": [
      "{}\n"
     ]
    }
   ],
   "source": [
    "Admin_table.allthedata()"
   ]
  },
  {
   "cell_type": "code",
   "execution_count": null,
   "id": "15132715-4fc1-4d86-9d01-cdf1fae1964b",
   "metadata": {},
   "outputs": [],
   "source": []
  },
  {
   "cell_type": "code",
   "execution_count": null,
   "id": "a52c41e7-fec9-4878-8061-ccbdfef84f3f",
   "metadata": {},
   "outputs": [],
   "source": []
  }
 ],
 "metadata": {
  "kernelspec": {
   "display_name": "Python 3 (ipykernel)",
   "language": "python",
   "name": "python3"
  },
  "language_info": {
   "codemirror_mode": {
    "name": "ipython",
    "version": 3
   },
   "file_extension": ".py",
   "mimetype": "text/x-python",
   "name": "python",
   "nbconvert_exporter": "python",
   "pygments_lexer": "ipython3",
   "version": "3.13.0"
  }
 },
 "nbformat": 4,
 "nbformat_minor": 5
}
