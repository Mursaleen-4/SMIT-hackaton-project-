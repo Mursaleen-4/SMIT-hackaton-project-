{
 "cells": [
  {
   "cell_type": "code",
   "execution_count": 5,
   "id": "e5431f00-d70c-4e87-bd10-44193e879172",
   "metadata": {},
   "outputs": [],
   "source": [
    "import random\n",
    "\n",
    "user_data = {}\n",
    "deposit_history = []\n",
    "withdrawal_history = []\n",
    "\n",
    "class BankAccount:\n",
    "    @staticmethod\n",
    "    def create_account():\n",
    "        name = input(\"Enter your name: \")\n",
    "        contact_no = int(input(\"Enter your contact details: \"))\n",
    "        password = input(\"Enter a strong password: \")\n",
    "        confirm_pass = input(\"Enter the same password again to recheck: \")\n",
    "        money = 0\n",
    "\n",
    "        if password == confirm_pass:\n",
    "            user_id = random.randint(10000, 50000)\n",
    "            user_data[user_id] = {\n",
    "                \"Name\": name,\n",
    "                \"contact_no\": contact_no,\n",
    "                \"password\": password,\n",
    "                \"money\": money,\n",
    "                \"deposit\": deposit_history,\n",
    "                \"withdrawal\": withdrawal_history\n",
    "            }\n",
    "            print(f\"Your account is being created. Your bank ID is {user_id} and your current balance = {money}\")\n",
    "            \n",
    "            with open('userdata.txt', 'a') as f:\n",
    "                for uid, details in user_data.items():\n",
    "                    f.write(f\"User ID: {uid}\\n\")\n",
    "                    for key, value in details.items():\n",
    "                        f.write(f\"{key}: {value}\\n\")\n",
    "                    f.write(\"\\n\")\n",
    "        else:\n",
    "            print(\"ACCOUNT NOT CREATED DUE TO INSUFFICIENT PASSWORD\")\n"
   ]
  },
  {
   "cell_type": "code",
   "execution_count": null,
   "id": "071436c8-c136-47d7-8e0e-65ac5888ca04",
   "metadata": {},
   "outputs": [],
   "source": []
  }
 ],
 "metadata": {
  "kernelspec": {
   "display_name": "Python 3 (ipykernel)",
   "language": "python",
   "name": "python3"
  },
  "language_info": {
   "codemirror_mode": {
    "name": "ipython",
    "version": 3
   },
   "file_extension": ".py",
   "mimetype": "text/x-python",
   "name": "python",
   "nbconvert_exporter": "python",
   "pygments_lexer": "ipython3",
   "version": "3.13.1"
  }
 },
 "nbformat": 4,
 "nbformat_minor": 5
}
