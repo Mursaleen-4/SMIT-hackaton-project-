{
 "cells": [
  {
   "cell_type": "code",
   "execution_count": 2,
   "id": "da80a188-7ed5-44df-9d32-43f4cf1bea40",
   "metadata": {},
   "outputs": [],
   "source": [
    "class Balance:\n",
    "    @staticmethod\n",
    "    def check_balance():\n",
    "        try:\n",
    "            user_id = int(input(\"Enter your ID to check balance: \"))\n",
    "            if user_id in user_data:\n",
    "                print(f\"Your current balance is: {user_data[user_id]['money']}\")\n",
    "            else:\n",
    "                print(\"ID does not match any account.\")\n",
    "        except Exception as e:\n",
    "            print(f\"Error: {e}\")\n"
   ]
  },
  {
   "cell_type": "code",
   "execution_count": null,
   "id": "5aa03357-2630-4bee-9368-7137b96d80e6",
   "metadata": {},
   "outputs": [],
   "source": []
  }
 ],
 "metadata": {
  "kernelspec": {
   "display_name": "Python 3 (ipykernel)",
   "language": "python",
   "name": "python3"
  },
  "language_info": {
   "codemirror_mode": {
    "name": "ipython",
    "version": 3
   },
   "file_extension": ".py",
   "mimetype": "text/x-python",
   "name": "python",
   "nbconvert_exporter": "python",
   "pygments_lexer": "ipython3",
   "version": "3.13.1"
  }
 },
 "nbformat": 4,
 "nbformat_minor": 5
}
