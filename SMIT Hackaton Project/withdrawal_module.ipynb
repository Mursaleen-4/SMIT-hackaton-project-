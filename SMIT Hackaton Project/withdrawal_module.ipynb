{
 "cells": [
  {
   "cell_type": "code",
   "execution_count": 4,
   "id": "61f9a2cc-8de6-496e-a31b-55ff97b6a66e",
   "metadata": {},
   "outputs": [],
   "source": [
    "from datetime import datetime\n",
    "\n",
    "class Withdrawal:\n",
    "    @staticmethod\n",
    "    def withdraw_money():\n",
    "        current_time = datetime.now().strftime(\"%H:%M:%S\")\n",
    "        try:\n",
    "            user_id = int(input(\"Enter your given ID no please: \"))\n",
    "            if user_id in user_data:\n",
    "                withdraw = int(input(\"Enter the amount you want to withdraw: \"))\n",
    "                if 0 < withdraw <= user_data[user_id]['money']:\n",
    "                    withdrawal_history.append(f\"A withdrawal of {withdraw} was made on {current_time}\")\n",
    "                    user_data[user_id]['money'] -= withdraw\n",
    "                    transaction_history.append(f\"Withdrawal of {withdraw} on {current_time}\")\n",
    "                    print(f\"{withdraw} has been withdrawn from your account\")\n",
    "                    print(f\"Your remaining balance is {user_data[user_id]['money']}\")\n",
    "                else:\n",
    "                    print(\"Insufficient balance or invalid amount\")\n",
    "            else:\n",
    "                print(\"ID does not match\")\n",
    "        except Exception as e:\n",
    "            print(f\"The error is {e}\")\n",
    "            "
   ]
  },
  {
   "cell_type": "code",
   "execution_count": null,
   "id": "c0566e35-a706-48d5-bc65-fa457b96662b",
   "metadata": {},
   "outputs": [],
   "source": []
  }
 ],
 "metadata": {
  "kernelspec": {
   "display_name": "Python 3 (ipykernel)",
   "language": "python",
   "name": "python3"
  },
  "language_info": {
   "codemirror_mode": {
    "name": "ipython",
    "version": 3
   },
   "file_extension": ".py",
   "mimetype": "text/x-python",
   "name": "python",
   "nbconvert_exporter": "python",
   "pygments_lexer": "ipython3",
   "version": "3.13.1"
  }
 },
 "nbformat": 4,
 "nbformat_minor": 5
}
