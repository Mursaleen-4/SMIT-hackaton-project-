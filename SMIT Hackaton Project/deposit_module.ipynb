{
 "cells": [
  {
   "cell_type": "code",
   "execution_count": 4,
   "id": "d67f1b65-9d9b-4dc6-8f79-1177d25e4541",
   "metadata": {},
   "outputs": [],
   "source": [
    "from datetime import datetime\n",
    "\n",
    "class Deposit:\n",
    "    @staticmethod\n",
    "    def deposit_money():\n",
    "        current_time = datetime.now().strftime(\"%H:%M:%S\")\n",
    "        try:\n",
    "            user_id = int(input(\"Enter your given ID no please: \"))\n",
    "            if user_id in user_data:\n",
    "                deposit = int(input(\"Enter the money you want to deposit: \"))\n",
    "                if deposit > 0:\n",
    "                    deposit_history.append(f\"A deposit has been made of {deposit} on {current_time}\")\n",
    "                    user_data[user_id]['money'] += deposit\n",
    "                    print(f\"{deposit} has been deposited to your account\")\n",
    "                    print(f\"Your new balance is {user_data[user_id]['money']}\")\n",
    "                else:\n",
    "                    print(\"The given amount cannot be negative\")\n",
    "            else:\n",
    "                print(\"ID does not match\")\n",
    "        except Exception as e:\n",
    "            print(f\"The error is {e}\")\n"
   ]
  },
  {
   "cell_type": "code",
   "execution_count": null,
   "id": "4faf1b64-5990-4d2b-9a32-895247fb5e99",
   "metadata": {},
   "outputs": [],
   "source": []
  }
 ],
 "metadata": {
  "kernelspec": {
   "display_name": "Python 3 (ipykernel)",
   "language": "python",
   "name": "python3"
  },
  "language_info": {
   "codemirror_mode": {
    "name": "ipython",
    "version": 3
   },
   "file_extension": ".py",
   "mimetype": "text/x-python",
   "name": "python",
   "nbconvert_exporter": "python",
   "pygments_lexer": "ipython3",
   "version": "3.13.1"
  }
 },
 "nbformat": 4,
 "nbformat_minor": 5
}
