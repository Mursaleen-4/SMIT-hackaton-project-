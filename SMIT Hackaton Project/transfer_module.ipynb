{
 "cells": [
  {
   "cell_type": "code",
   "execution_count": 3,
   "id": "6864c9ca-ab74-4e1c-aae9-e355acb681c0",
   "metadata": {},
   "outputs": [],
   "source": [
    "from datetime import datetime\n",
    "\n",
    "class Transfer:\n",
    "    @staticmethod\n",
    "    def transfer_money():\n",
    "        current_time = datetime.now().strftime(\"%H:%M:%S\")\n",
    "        try:\n",
    "            sender_id = int(input(\"Enter your ID: \"))\n",
    "            if sender_id in user_data:\n",
    "                recipient_id = int(input(\"Enter recipient's ID: \"))\n",
    "                if recipient_id in user_data:\n",
    "                    amount = int(input(\"Enter the amount to transfer: \"))\n",
    "                    if 0 < amount <= user_data[sender_id]['money']:\n",
    "                        user_data[sender_id]['money'] -= amount\n",
    "                        user_data[recipient_id]['money'] += amount\n",
    "                        transaction_history.append(f\"Transfer of {amount} from {sender_id} to {recipient_id} on {current_time}\")\n",
    "                        print(f\"Successfully transferred {amount} to user {recipient_id}\")\n",
    "                    else:\n",
    "                        print(\"Insufficient balance or invalid amount\")\n",
    "                else:\n",
    "                    print(\"Recipient ID not found\")\n",
    "            else:\n",
    "                print(\"Sender ID not found\")\n",
    "        except Exception as e:\n",
    "            print(f\"The error is {e}\")\n",
    "            "
   ]
  },
  {
   "cell_type": "code",
   "execution_count": null,
   "id": "1fa741d9-e3eb-47b2-9d83-10cf925cd617",
   "metadata": {},
   "outputs": [],
   "source": []
  }
 ],
 "metadata": {
  "kernelspec": {
   "display_name": "Python 3 (ipykernel)",
   "language": "python",
   "name": "python3"
  },
  "language_info": {
   "codemirror_mode": {
    "name": "ipython",
    "version": 3
   },
   "file_extension": ".py",
   "mimetype": "text/x-python",
   "name": "python",
   "nbconvert_exporter": "python",
   "pygments_lexer": "ipython3",
   "version": "3.13.1"
  }
 },
 "nbformat": 4,
 "nbformat_minor": 5
}
