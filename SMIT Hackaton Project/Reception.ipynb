{
 "cells": [
  {
   "cell_type": "code",
   "execution_count": 13,
   "id": "8975548c-ea21-485d-83ce-d739c826596f",
   "metadata": {},
   "outputs": [
    {
     "name": "stdout",
     "output_type": "stream",
     "text": [
      "\n",
      "Welcome to the Bank Management System\n",
      "1. Create Account\n",
      "2. Deposit Money\n",
      "3. Withdraw Money\n",
      "4. Check Balance\n",
      "5. Transfer Money\n",
      "6. View Transaction History\n",
      "7. Exit\n"
     ]
    },
    {
     "name": "stdin",
     "output_type": "stream",
     "text": [
      "Enter your choice:  7\n"
     ]
    },
    {
     "name": "stdout",
     "output_type": "stream",
     "text": [
      "Thank you for using the Bank Management System. Goodbye!\n"
     ]
    }
   ],
   "source": [
    "%run bank_account.ipynb\n",
    "%run deposit_module.ipynb\n",
    "%run withdrawal_module.ipynb\n",
    "%run transfer_module.ipynb\n",
    "%run transaction_module.ipynb\n",
    "%run balance_module.ipynb\n",
    "\n",
    "def main():\n",
    "    while True:\n",
    "        print(\"\\nWelcome to the Bank Management System\")\n",
    "        print(\"1. Create Account\")\n",
    "        print(\"2. Deposit Money\")\n",
    "        print(\"3. Withdraw Money\")\n",
    "        print(\"4. Check Balance\")\n",
    "        print(\"5. Transfer Money\")\n",
    "        print(\"6. View Transaction History\")\n",
    "        print(\"7. Exit\")\n",
    "        \n",
    "        try:\n",
    "            choice = int(input(\"Enter your choice: \"))\n",
    "            if choice == 1:\n",
    "                BankAccount.create_account()\n",
    "            elif choice == 2:\n",
    "                Deposit.deposit_money()\n",
    "                TransactionHistory.record_transaction(\"Deposit made.\")\n",
    "            elif choice == 3:\n",
    "                Withdrawal.withdraw_money()\n",
    "                TransactionHistory.record_transaction(\"Withdrawal made.\")\n",
    "            elif choice == 4:\n",
    "                Balance.check_balance()\n",
    "            elif choice == 5:\n",
    "                Transfer.transfer_money()\n",
    "                TransactionHistory.record_transaction(\"Transfer made.\")\n",
    "            elif choice == 6:\n",
    "                TransactionHistory.view_transaction_history()\n",
    "            elif choice == 7:\n",
    "                print(\"Thank you for using the Bank Management System. Goodbye!\")\n",
    "                break\n",
    "            else:\n",
    "                print(\"Invalid choice. Please try again.\")\n",
    "        except ValueError:\n",
    "            print(\"Please enter a valid number.\")\n",
    "\n",
    "if __name__ == \"__main__\":\n",
    "    main()\n"
   ]
  },
  {
   "cell_type": "code",
   "execution_count": null,
   "id": "dcefa18f-e7a4-4c9a-aafb-fae79b436253",
   "metadata": {},
   "outputs": [],
   "source": []
  }
 ],
 "metadata": {
  "kernelspec": {
   "display_name": "Python 3 (ipykernel)",
   "language": "python",
   "name": "python3"
  },
  "language_info": {
   "codemirror_mode": {
    "name": "ipython",
    "version": 3
   },
   "file_extension": ".py",
   "mimetype": "text/x-python",
   "name": "python",
   "nbconvert_exporter": "python",
   "pygments_lexer": "ipython3",
   "version": "3.13.1"
  }
 },
 "nbformat": 4,
 "nbformat_minor": 5
}
