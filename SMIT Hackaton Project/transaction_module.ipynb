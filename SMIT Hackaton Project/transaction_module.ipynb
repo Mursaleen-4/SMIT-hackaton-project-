{
 "cells": [
  {
   "cell_type": "code",
   "execution_count": 3,
   "id": "d951ec8f-0501-4d7b-877c-0e8ad7706023",
   "metadata": {},
   "outputs": [],
   "source": [
    "transaction_history = []\n",
    "\n",
    "class TransactionHistory:\n",
    "    @staticmethod\n",
    "    def record_transaction(transaction_detail):\n",
    "        transaction_history.append(transaction_detail)\n",
    "\n",
    "    @staticmethod\n",
    "    def view_transaction_history():\n",
    "        if not transaction_history:\n",
    "            print(\"No transactions have been made yet.\")\n",
    "        else:\n",
    "            print(\"\\nTransaction History:\")\n",
    "            for idx, transaction in enumerate(transaction_history, start=1):\n",
    "                print(f\"{idx}. {transaction}\")\n",
    "            "
   ]
  },
  {
   "cell_type": "code",
   "execution_count": null,
   "id": "77db9b87-12a1-495d-9397-e520f4ec995b",
   "metadata": {},
   "outputs": [],
   "source": []
  }
 ],
 "metadata": {
  "kernelspec": {
   "display_name": "Python 3 (ipykernel)",
   "language": "python",
   "name": "python3"
  },
  "language_info": {
   "codemirror_mode": {
    "name": "ipython",
    "version": 3
   },
   "file_extension": ".py",
   "mimetype": "text/x-python",
   "name": "python",
   "nbconvert_exporter": "python",
   "pygments_lexer": "ipython3",
   "version": "3.13.1"
  }
 },
 "nbformat": 4,
 "nbformat_minor": 5
}
